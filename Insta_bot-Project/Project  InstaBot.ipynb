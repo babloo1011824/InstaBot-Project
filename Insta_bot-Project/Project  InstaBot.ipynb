{
 "cells": [
  {
   "cell_type": "markdown",
   "metadata": {},
   "source": [
    "# Project : InstaBot - II"
   ]
  },
  {
   "cell_type": "markdown",
   "metadata": {},
   "source": [
    "Importing the relevant libraries and starting the webdriver session"
   ]
  },
  {
   "cell_type": "code",
   "execution_count": 36,
   "metadata": {},
   "outputs": [],
   "source": [
    "from selenium import webdriver\n",
    "from selenium.webdriver.common.by import By\n",
    "from selenium.webdriver.support.ui import WebDriverWait\n",
    "from selenium.webdriver.support import expected_conditions as EC\n",
    "import time\n",
    "from selenium.webdriver.chrome.options import Options\n",
    "from bs4 import BeautifulSoup\n",
    "import matplotlib.pyplot as plt\n",
    "import numpy as np\n",
    "import pandas as pd\n",
    "from datetime import datetime\n",
    "import re\n",
    "\n",
    "\n",
    "\n",
    "# Disable Chrome Browser Notification\n",
    "option = Options()\n",
    "option.add_argument(\"--disable-infobars\")\n",
    "option.add_argument(\"start-maximized\")\n",
    "option.add_argument(\"--disable-extensions\")\n",
    "option.add_experimental_option(\"prefs\", { \n",
    "    \"profile.default_content_setting_values.notifications\": 1 \n",
    "})\n",
    "\n",
    "driver=webdriver.Chrome()  ## set executable path\n",
    "driver.get(\"https://www.instagram.com/\")"
   ]
  },
  {
   "cell_type": "markdown",
   "metadata": {},
   "source": [
    "Logging into your instagram account"
   ]
  },
  {
   "cell_type": "code",
   "execution_count": 37,
   "metadata": {},
   "outputs": [],
   "source": [
    "def login():\n",
    "    \n",
    "    username = driver.find_element_by_name('username')\n",
    "    username.send_keys('username')\n",
    "    \n",
    "    password = driver.find_element_by_name('password')\n",
    "    password.send_keys('password')\n",
    "    password.submit()\n",
    "    \n",
    "    time.sleep(6)\n",
    "    \n",
    "    #to handle pop-up notification\n",
    "    try:\n",
    "        driver.find_element_by_xpath(\"/html/body/div[4]/div/div/div[3]/button[2]\").click() \n",
    "    except NoSuchElementException:\n",
    "        pass\n",
    "login()"
   ]
  },
  {
   "cell_type": "markdown",
   "metadata": {},
   "source": [
    "Q1. 1.From the list of instagram handles you obtained when you searched ‘food’ in previous project. Open the first 10 handles and find the top 5 which have the highest number of followers"
   ]
  },
  {
   "cell_type": "code",
   "execution_count": 38,
   "metadata": {},
   "outputs": [
    {
     "name": "stdout",
     "output_type": "stream",
     "text": [
      "[10964780, 'foodnetwork', '/foodnetwork/']\n",
      "[1540711, 'yourfoodlab', '/yourfoodlab/']\n",
      "[193495, 'streetfoodrecipe', '/streetfoodrecipe/']\n",
      "[132753, 'delhifoodwalks', '/delhifoodwalks/']\n",
      "[104678, 'food', '/food/']\n"
     ]
    }
   ],
   "source": [
    "def get_follower_count(user_handle): \n",
    "    time.sleep(1)\n",
    "    base_url = \"https://instagram.com\"\n",
    "    driver.get(base_url+user_handle[1])\n",
    "    time.sleep(2)\n",
    "    tag = driver.find_element_by_partial_link_text(\"followers\")\n",
    "    data = BeautifulSoup(tag.get_attribute('outerHTML'),'html.parser').find('span').get('title')\n",
    "    follower_count = int(data.replace(',',''))\n",
    "    user_id_followers.append([follower_count,user_handle[0],user_handle[1]])\n",
    "\n",
    "\n",
    "\n",
    "driver.get('https://instagram.com/')\n",
    "search_input =    driver.find_element_by_xpath(\"//input[@placeholder='Search']\")\n",
    "search_input.clear()\n",
    "search_input.send_keys(\"food\")\n",
    "user_ids = WebDriverWait(driver, 10).until(EC.presence_of_all_elements_located((By.XPATH, \"//div[@class='fuqBx']//a\")))\n",
    "\n",
    "# Store user_handles with profile links\n",
    "store_user_ids = []\n",
    "for user_id in user_ids:\n",
    "    html_content = user_id.get_attribute('outerHTML')\n",
    "    data = BeautifulSoup(html_content,'html.parser').a['href']\n",
    "    user_id = data.split('/')[1]\n",
    "    if user_id!='explore':\n",
    "        store_user_ids.append([user_id,data])\n",
    "        \n",
    "\n",
    "# Only 10 user id with there profile link\n",
    "store_user_ids = store_user_ids[:10]\n",
    "\n",
    "user_id_followers = []\n",
    "\n",
    "    \n",
    "for user_id in store_user_ids:\n",
    "    get_follower_count(user_id)\n",
    "\n",
    "# TOP FIVE USER HANDLES WITH FOLLOWERS, PROFILE LINK\n",
    "user_id_followers.sort(reverse=True)\n",
    "user_id_followers = user_id_followers[:5]\n",
    "for user_id in user_id_followers:\n",
    "    print(user_id)"
   ]
  },
  {
   "cell_type": "markdown",
   "metadata": {},
   "source": [
    "2. Now Find the number of posts these handles have done in the previous 3 days."
   ]
  },
  {
   "cell_type": "code",
   "execution_count": 40,
   "metadata": {},
   "outputs": [],
   "source": [
    "def post_date_check(user_url):\n",
    "    base_url = \"https://instagram.com\"\n",
    "    driver.get(base_url+user_url)\n",
    "    time.sleep(2)\n",
    "\n",
    "    post = WebDriverWait(driver,10).until(EC.presence_of_element_located((By.XPATH,\"//div[@class='v1Nh3 kIKUG  _bz0w']\")))\n",
    "    post.click()\n",
    "    no_of_posts = 0\n",
    "    try:\n",
    "        while True:\n",
    "            time_of_post = WebDriverWait(driver,10).until(EC.presence_of_element_located((By.XPATH,\"//a[@class='c-Yi7']/time\")))\n",
    "            date_of_post = BeautifulSoup(time_of_post.get_attribute('outerHTML'),'html.parser').find('time').get('title')\n",
    "            date_of_post = date_of_post.replace(',', '')\n",
    "            post_date = datetime.strptime(date_of_post, '%b %d %Y').date()\n",
    "            current_date = datetime.today().strftime('%Y-%m-%d')\n",
    "            current_date = datetime.strptime(current_date, '%Y-%m-%d').date()\n",
    "            difference_in_date = (current_date-post_date).days\n",
    "            next_post = WebDriverWait(driver,10).until(EC.presence_of_element_located((By.XPATH,\"//div/a[@class=' _65Bje  coreSpriteRightPaginationArrow']\")))\n",
    "            next_post.click()\n",
    "            if difference_in_date>3:\n",
    "                break\n",
    "                \n",
    "            no_of_posts+=1\n",
    "            time.sleep(2)\n",
    "    except:\n",
    "        return no_of_posts\n",
    "        \n",
    "    return no_of_posts;        \n",
    "        \n",
    "user_handles = []\n",
    "post_counts = []\n",
    "for user_detail in user_id_followers:\n",
    "    user_handles.append(user_detail[1])\n",
    "    post_count = post_date_check(user_detail[2])\n",
    "    post_counts.append(post_count)\n",
    "    time.sleep(3)"
   ]
  },
  {
   "cell_type": "markdown",
   "metadata": {},
   "source": [
    "3. Depict this information using a suitable graph."
   ]
  },
  {
   "cell_type": "code",
   "execution_count": 41,
   "metadata": {},
   "outputs": [
    {
     "data": {
      "image/png": "[encoded data removed]",
      "text/plain": [
       "<Figure size 432x288 with 1 Axes>"
      ]
     },
     "metadata": {
      "needs_background": "light"
     },
     "output_type": "display_data"
    }
   ],
   "source": [
    "\n",
    "plt.bar(user_handles,post_counts)\n",
    "plt.xticks(rotation=90)\n",
    "plt.grid()\n",
    "plt.show()\n"
   ]
  },
  {
   "cell_type": "markdown",
   "metadata": {},
   "source": [
    "Q2 Your friend also needs a list of hashtags that he should use in his posts.\n",
    "\n",
    "1.Open the 5 handles you obtained in the last question, and scrape the content of the first 10 posts of each handle.\n",
    "\n",
    "2.Prepare a list of all words used in all the scraped posts and calculate the frequency of each word.\n",
    "\n",
    "3.Create a csv file with two columns : the word and its frequency\n",
    "\n",
    "4.Now, find the hashtags that were most popular among these bloggers\n",
    "\n",
    "5.Plot a Pie Chart of the top 5 hashtags obtained and the number of times they were used by these bloggers in the scraped posts"
   ]
  },
  {
   "cell_type": "code",
   "execution_count": 42,
   "metadata": {},
   "outputs": [
    {
     "data": {
      "image/png": "[encoded data removed]",
      "text/plain": [
       "<Figure size 432x288 with 1 Axes>"
      ]
     },
     "metadata": {},
     "output_type": "display_data"
    }
   ],
   "source": [
    "\n",
    "def post_check(user_url):\n",
    "    base_url = \"https://instagram.com\"\n",
    "    driver.get(base_url+user_url)\n",
    "    time.sleep(2)\n",
    "\n",
    "    post = WebDriverWait(driver,10).until(EC.presence_of_element_located((By.XPATH,\"//div[@class='v1Nh3 kIKUG  _bz0w']\")))\n",
    "    post.click()\n",
    "    no_of_posts = 1\n",
    "    total_likes = 0\n",
    "    post_for_like = 0\n",
    "    texts = \"\"\n",
    "    try:\n",
    "        while True:\n",
    "            content = WebDriverWait(driver,10).until(EC.presence_of_element_located((By.XPATH,\"//div[@class='C4VMK']/span\")))\n",
    "            text = BeautifulSoup(content.get_attribute('outerHTML'),'html.parser').find('span').text\n",
    "            texts = texts + str(\" \") + str(text)\n",
    "            like_data = driver.find_element_by_xpath(\"//section[@class='EDfFK ygqzn']\")\n",
    "            likes = BeautifulSoup(like_data.get_attribute('outerHTML'),'html.parser').find('span').text.replace(',','')\n",
    "            if \"views\" not in likes:\n",
    "                total_likes += int(likes)\n",
    "                post_for_like+=1\n",
    "            else:\n",
    "                button_like = driver.find_element_by_xpath('//span[contains(.,\" views\")]')\n",
    "                driver.execute_script(\"arguments[0].click();\", button_like)\n",
    "                like_data = WebDriverWait(driver,10).until(EC.presence_of_element_located((By.XPATH,\"//section[@class='EDfFK ygqzn']//div[contains(.,' likes')]\")))\n",
    "                like_html_data = BeautifulSoup(like_data.get_attribute('outerHTML'),'html.parser')\n",
    "                likes = int(like_html_data.find(class_ = 'vJRqr').find('span').text.replace(\",\",''))\n",
    "                total_likes +=likes\n",
    "                post_for_like+=1\n",
    "\n",
    "\n",
    "            next_post = WebDriverWait(driver,10).until(EC.presence_of_element_located((By.XPATH,\"//div/a[@class=' _65Bje  coreSpriteRightPaginationArrow']\")))\n",
    "            driver.execute_script(\"arguments[0].click();\", next_post)\n",
    "\n",
    "            if no_of_posts==10:\n",
    "                break\n",
    "\n",
    "            no_of_posts+=1\n",
    "            time.sleep(2)\n",
    "    except:\n",
    "        print(\"Failed\")\n",
    "        return [texts,total_likes,post_for_like]\n",
    "        \n",
    "    return [texts,total_likes,post_for_like]        \n",
    "\n",
    "# Special characters to be removed\n",
    "characters_not_required = \"[-/\\\"/=/+/“/”/*/-/👀/📷/😂/❤️/💪/🤦/🙄/😩/🤦🏻/🤤/🌍/🍜/🇫🇷/👉/😱/🍕/🙌/🍞/🍩/🍫/🍌/🍓/☕️/🍻/✈️/🍰/🍣/🌎/🍨/🍔/🍫/♂️/♀️/🍗/🥩/🍖/🌶/😋/👨‍/😮/😍/🍳/@/,/?/🔥/👏/😉/)/🥓/(/|/0-9/./:/!/💕/🌮/>/</🍴/🍅/🧀/🎉/🔒]\"\n",
    "\n",
    "def get_word_frequency(content,words_dictionary,hastag_dictionary):\n",
    "    words = content.split(\" \")\n",
    "    for word in words:\n",
    "        word = re.sub(characters_not_required, \"\", word)\n",
    "        if word!=\"\":\n",
    "            if word[0]==\"#\":\n",
    "                hastag_dictionary[word] = hastag_dictionary.get(word,0)+1\n",
    "                continue\n",
    "            words_dictionary[word] = words_dictionary.get(word,0)+1\n",
    "            \n",
    "            \n",
    "    \n",
    "\n",
    "user_handles = []\n",
    "post_contents = []\n",
    "for user_detail in user_id_followers:\n",
    "    user_handles.append(user_detail[1])\n",
    "    post_content = post_check(user_detail[2])\n",
    "    post_contents.append(post_content)\n",
    "    time.sleep(3)\n",
    "\n",
    "# Prepare a list of all words used in all the scraped posts and calculate the frequency of each word.    \n",
    "words_dictionary = {}\n",
    "\n",
    "# Prepare a list of all #hashtag used in all the scraped posts and calculate the frequency of each hastag.    \n",
    "hastag_dictionary = {}\n",
    "for content in post_contents:\n",
    "    get_word_frequency(content[0],words_dictionary,hastag_dictionary)\n",
    "    \n",
    "\n",
    "words = [ key for key,value in words_dictionary.items()]\n",
    "word_frequency = [ value for key,value in words_dictionary.items()]\n",
    "\n",
    "# Create a csv file with two columns : the word and its frequency\n",
    "columns = {\"Word\":words,\"Frequency\":word_frequency}\n",
    "# Dataframe created using Pandas which will help us to create the CSV file\n",
    "words_df = pd.DataFrame(columns)\n",
    "# Create the CSV file without Index values\n",
    "words_df.to_csv(r'WordFrequency.csv', index=False)\n",
    "\n",
    "\n",
    "# Now, find the hashtags that were most popular among these bloggers\n",
    "hastag_with_frequency = [[value,key] for key,value in hastag_dictionary.items()]\n",
    "hastag_with_frequency.sort(reverse=True)\n",
    "\n",
    "# Plot a Pie Chart of the top 5 hashtags obtained and the number of times they were used by these bloggers in the scraped posts.\n",
    "top_five_hastags = [ i[1] for i in hastag_with_frequency[:5]]\n",
    "hastag_counts = [ i[0] for i in hastag_with_frequency[:5]]\n",
    "\n",
    "# Pie graph to get the idea of which hashtag has been used for most of the time.\n",
    "plt.pie(hastag_counts,labels=top_five_hastags,autopct=\"%.2f\")\n",
    "plt.show()"
   ]
  },
  {
   "cell_type": "markdown",
   "metadata": {},
   "source": [
    "Q3. You need to also calculate average followers : likes ratio for the obtained handles.\n",
    "Followers : Likes ratio is calculated as follows:\n",
    "\n",
    "1.Find out the likes of the top 10 posts of the 5 handles obtained earlier.\n",
    "\n",
    "2.Calculate the average likes for a handle.\n",
    "\n",
    "3.Divide the average likes obtained from the number of followers of the handle to get the average followers:like ratio of each handle.\n",
    "\n",
    "4.Create a bar graph to depict the above obtained information."
   ]
  },
  {
   "cell_type": "code",
   "execution_count": 43,
   "metadata": {},
   "outputs": [
    {
     "name": "stdout",
     "output_type": "stream",
     "text": [
      "---------------------------------\n",
      "Total Likes for 10 Posts\n",
      "---------------------------------\n",
      "foodnetwork 127893\n",
      "yourfoodlab 294769\n",
      "streetfoodrecipe 43932\n",
      "delhifoodwalks 7823\n",
      "food 10128\n",
      "---------------------------------\n",
      "Average Likes\n",
      "---------------------------------\n",
      "foodnetwork 12789\n",
      "yourfoodlab 29477\n",
      "streetfoodrecipe 4393\n",
      "delhifoodwalks 782\n",
      "food 1013\n",
      "---------------------------------\n",
      "Ratio Avg Followers : Avg Likes\n",
      "---------------------------------\n",
      "foodnetwork 857 : 12789\n",
      "yourfoodlab 52 : 29476\n",
      "streetfoodrecipe 44 : 4393\n",
      "delhifoodwalks 169 : 782\n",
      "food 103 : 1012\n"
     ]
    },
    {
     "data": {
      "image/png": "[encoded data removed]",
      "text/plain": [
       "<Figure size 432x288 with 1 Axes>"
      ]
     },
     "metadata": {
      "needs_background": "light"
     },
     "output_type": "display_data"
    },
    {
     "data": {
      "image/png": "[encoded data removed]",
      "text/plain": [
       "<Figure size 432x288 with 1 Axes>"
      ]
     },
     "metadata": {
      "needs_background": "light"
     },
     "output_type": "display_data"
    }
   ],
   "source": [
    "\n",
    "print(\"---------------------------------\")\n",
    "print(\"Total Likes for 10 Posts\")\n",
    "print(\"---------------------------------\")\n",
    "for i in range(5):\n",
    "    print(user_handles[i],post_contents[i][1])\n",
    "    \n",
    "# Calculate the average likes for a handle.\n",
    "print(\"---------------------------------\")\n",
    "print(\"Average Likes\")\n",
    "print(\"---------------------------------\")\n",
    "# To store the average_likes for each handle\n",
    "average_likes_list = []\n",
    "for i in range(5):\n",
    "    average_likes = post_contents[i][1]/post_contents[i][2]\n",
    "    average_likes_list.append(average_likes)\n",
    "    print(user_handles[i],format(average_likes,\".0f\"))\n",
    "\n",
    "\n",
    "    \n",
    "    \n",
    "print(\"---------------------------------\")\n",
    "print(\"Ratio Avg Followers : Avg Likes\")\n",
    "print(\"---------------------------------\")\n",
    "avg_followers = []\n",
    "for i in range(5):\n",
    "    avg_followers_count = int(user_id_followers[i][0]/average_likes_list[i])\n",
    "    avg_followers.append(avg_followers_count)\n",
    "    print(user_id_followers[i][1],avg_followers_count,':',int(average_likes_list[i]))\n",
    "\n",
    "\n",
    "    \n",
    "# Create a bar graph to depict the above obtained information.\n",
    "plt.bar(user_handles,avg_followers)\n",
    "plt.title('Average Followers')\n",
    "plt.grid()\n",
    "plt.show()\n",
    "\n",
    "plt.bar(user_handles,average_likes_list)\n",
    "plt.title('Average Likes')\n",
    "plt.grid()\n",
    "plt.show()"
   ]
  },
  {
   "cell_type": "code",
   "execution_count": null,
   "metadata": {},
   "outputs": [],
   "source": []
  }
 ],
 "metadata": {
  "kernelspec": {
   "display_name": "Python 3",
   "language": "python",
   "name": "python3"
  },
  "language_info": {
   "codemirror_mode": {
    "name": "ipython",
    "version": 3
   },
   "file_extension": ".py",
   "mimetype": "text/x-python",
   "name": "python",
   "nbconvert_exporter": "python",
   "pygments_lexer": "ipython3",
   "version": "3.8.3"
  }
 },
 "nbformat": 4,
 "nbformat_minor": 4
}
